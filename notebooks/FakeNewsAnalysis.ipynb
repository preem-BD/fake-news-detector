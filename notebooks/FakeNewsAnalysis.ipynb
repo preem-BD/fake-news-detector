{
 "cells": [
  {
   "cell_type": "markdown",
   "id": "ed9e1c28",
   "metadata": {},
   "source": [
    "# Fake News Detector — Final Project\n",
    "\n",
    "**Group 4 — Kai Bleuel, Mustafa Sivgin, César Diaz Murga**  \n",
    "Scientific Programming WIN (2025-FS)\n"
   ]
  },
  {
   "cell_type": "markdown",
   "id": "4efc8e39",
   "metadata": {},
   "source": [
    "## 1️. Introduction\n",
    "\n",
    "In this project, we developed a \"Fake News Detector & Article Analyzer\" as part of the Scientific Programming WIN course at ZHAW.\n",
    "\n",
    "The goal of our project is to automatically analyze live news articles for:\n",
    "\n",
    "- Clickbait characteristics\n",
    "- Sentiment (positive/negative/neutral)\n",
    "- Word count\n",
    "- Statistical relationships\n",
    "\n",
    "**Research Question:**  \n",
    "Can we identify patterns between clickbait headlines, sentiment and article length in real-world news?\n",
    "\n",
    "Our tool provides an interactive platform to explore the relationship between clickbait headlines, article sentiment, and text length in real-world news. It leverages modern AI techniques (Transformer-based language models), statistical analysis, and user-friendly visualizations to support data-driven conclusions.\n",
    "\n"
   ]
  },
  {
   "cell_type": "markdown",
   "id": "3ba859e9",
   "metadata": {},
   "source": [
    "## 2️. Materials & Methods\n"
   ]
  },
  {
   "cell_type": "markdown",
   "id": "de43fbcd",
   "metadata": {},
   "source": [
    "### Data Source\n",
    "\n",
    "We use **NewsAPI** to collect real-world, live news articles based on a user-provided keyword.\n",
    "\n",
    "Example API call:\n",
    "\n",
    "https://newsapi.org/v2/everything?q=iphone&pageSize=20&page=1&sortBy=publishedAt&language=en&apiKey=xxx\n"
   ]
  },
  {
   "cell_type": "markdown",
   "id": "c1491eee",
   "metadata": {},
   "source": [
    "### Data Preparation\n",
    "\n",
    "✅ Cleaning and preparing article text:  \n",
    "\n",
    "- Removed empty entries  \n",
    "- Filtered articles by keyword occurrence in title or text  \n",
    "- Converted to pandas DataFrame  \n",
    "\n",
    "✅ Keyword highlighting implemented via:\n",
    "\n",
    "The highlight function iterates over the text and applies color formatting (using Colorama in terminal, HTML in Streamlit) to visually emphasize the search keyword. This improves user experience and readability.\n",
    "\n",
    "```python\n",
    "def highlight_keyword(text, keyword):\n",
    "    ..."
   ]
  },
  {
   "cell_type": "markdown",
   "id": "499a0aba",
   "metadata": {},
   "source": [
    "✅ Word count calculated via:\n",
    "\n",
    "Word count serves as a simple proxy for article length and complexity. It is computed as the number of whitespace-separated tokens in the article body.\n",
    "```python\n",
    "word_count = len(row.get('text', '').split())"
   ]
  },
  {
   "cell_type": "markdown",
   "id": "032f8fcb",
   "metadata": {},
   "source": [
    "### Analysis Algorithms\n",
    "\n",
    "✅ Clickbait Detection:\n",
    "\n",
    "- Rule-based matching against a curated list of common clickbait phrases  \n",
    "- Example phrases: \"shocking\", \"you won’t believe\", \"secret\", etc.\n",
    "\n",
    "//Example: Clickbait Detection Code\n",
    "```python\n",
    "CLICKBAIT_WORDS = [\"shocking\", \"secret\", \"you won’t believe\", ...]\n",
    "                def detect_clickbait_in_title(title):\n",
    "                    title_lower = title.lower()\n",
    "                    found_words = [word for word in CLICKBAIT_WORDS if word in title_lower]\n",
    "                    if found_words:\n",
    "                        return \"Clickbait\"\n",
    "                    else:\n",
    "                        return \"Not Clickbait\"\n",
    "```\n",
    "\n",
    "✅ Sentiment Analysis:\n",
    "\n",
    "- Using Hugging Face Transformers model:  \n",
    "`distilbert-base-uncased-finetuned-sst-2-english`\n",
    "\n",
    "//Example: Sentiment Analysis Code\n",
    "```python\n",
    "                from transformers import pipeline\n",
    "\n",
    "                classifier = pipeline(\"sentiment-analysis\", model=\"distilbert-base-uncased-finetuned-sst-2-english\")\n",
    "\n",
    "                def analyze_article_with_local_llm(text):\n",
    "                    result = classifier(text[:512])[0]\n",
    "                    return {\"label\": result[\"label\"], \"score\": result[\"score\"]}\n",
    "```\n",
    "\n",
    "✅ Statistical Analysis:\n",
    "\n",
    "- Pearson correlation: Sentiment Score ↔ Word Count  \n",
    "- Spearman correlation: Sentiment Score ↔ Word Count  \n",
    "- Chi-Square test: Clickbait vs. Sentiment\n",
    "\n",
    "//Example: Statistical Analysis Code (Pearson Correlation)\n",
    "```python\n",
    "                from scipy.stats import pearsonr\n",
    "\n",
    "                sentiment_scores = df_results[\"Sentiment Score\"]\n",
    "                word_counts = df_results[\"Word Count\"]\n",
    "\n",
    "                pearson_corr, pearson_p = pearsonr(sentiment_scores, word_counts)\n",
    "                print(f\"Pearson r = {pearson_corr:.2f}, p = {pearson_p:.4f}\")\n",
    "```\n"
   ]
  },
  {
   "cell_type": "markdown",
   "id": "d1182438",
   "metadata": {},
   "source": [
    "### Tools used\n",
    "\n",
    "- Python 3.13\n",
    "- Visual Studio Code\n",
    "- Jupyter Notebook\n",
    "- Streamlit (Web App)\n",
    "- pandas\n",
    "- matplotlib\n",
    "- transformers\n",
    "- scipy\n",
    "- colorama\n",
    "- NewsAPI Web API\n"
   ]
  },
  {
   "cell_type": "markdown",
   "id": "4d1467b3",
   "metadata": {},
   "source": [
    "### Database / SQL Integration\n",
    "\n",
    "To fulfill the database requirement of the project, we added an integration with **SQLite**, a lightweight SQL database.\n",
    "\n",
    "Our program automatically:\n",
    "\n",
    "✅ Saves the full analysis DataFrame (`df_results`) to a local SQLite database:  \n",
    "`data/fake_news_analysis.db`\n",
    "\n",
    "✅ Stores the results in an SQL table called **\"articles\"**\n",
    "\n",
    "✅ Executes an example SQL query directly from Python to demonstrate integration:\n",
    "\n",
    "```sql\n",
    "SELECT Clickbait, COUNT(*) as count\n",
    "FROM articles\n",
    "GROUP BY Clickbait;\n"
   ]
  },
  {
   "cell_type": "markdown",
   "id": "02f28576",
   "metadata": {},
   "source": [
    "## 3️. Results & Discussion\n"
   ]
  },
  {
   "cell_type": "markdown",
   "id": "98b2e35f",
   "metadata": {},
   "source": [
    "### ➤ Pie Chart: Clickbait + Sentiment\n",
    "\n",
    "**Distribution of Clickbait + Sentiment combinations in analyzed articles:**  \n",
    "\n",
    "![Pie Chart](images/pie_chart.png)"
   ]
  },
  {
   "cell_type": "markdown",
   "id": "6fba2e12",
   "metadata": {},
   "source": [
    "### ➤ Example Terminal Output (main.py)\n",
    "\n",
    "**Example output of our terminal-based analysis:**  \n",
    "\n",
    "![Terminal Output](images/terminal_output.png)\n"
   ]
  },
  {
   "cell_type": "markdown",
   "id": "03a3c6cc",
   "metadata": {},
   "source": [
    "### ➤ Statistical Analysis Output\n",
    "\n",
    "![Statistical Analysis](images/stat_analysis.png)\n"
   ]
  },
  {
   "cell_type": "markdown",
   "id": "7644e8ea",
   "metadata": {},
   "source": [
    "### ➤ Example Streamlit App\n",
    "\n",
    "**Screenshot of the interactive Streamlit app:**  \n",
    "\n",
    "![Streamlit App](images/streamlit_app.png)\n"
   ]
  },
  {
   "cell_type": "markdown",
   "id": "a87d0e21",
   "metadata": {},
   "source": [
    "### ➤ Interpretation of Results\n",
    "\n",
    "Our findings suggest that while some sentiment patterns correlate with article length, clickbait features are less predictive of sentiment. This might be due to the variability of journalistic writing styles across different news outlets.\n",
    "\n",
    "Interestingly, many articles flagged as \"Not Clickbait\" still contained highly emotional or biased language — indicating that clickbait headlines and article tone are not always aligned.\n",
    "\n",
    "The flexible, keyword-based search allows users to explore many different topics (sports, politics, tech, etc.) and compare how media tone shifts across domains.\n",
    "\n",
    "\n",
    "Based on our runs:\n",
    "\n",
    "- Some correlation between **sentiment and article length** was observed (depending on topic).\n",
    "- No strong correlation between **clickbait and sentiment** → surprising result!\n",
    "- The combination of Clickbait + Sentiment is well visualized in the Pie Chart.\n",
    "- The app allows flexible exploration across topics (e.g. politics, sports, tech).\n"
   ]
  },
  {
   "cell_type": "markdown",
   "id": "b2e99d2d",
   "metadata": {},
   "source": [
    "## 4️. Conclusions\n",
    "\n",
    "✅ Our project successfully implements an automated Fake News Detector:\n",
    "\n",
    "- Real-world data collection using NewsAPI\n",
    "- Cleaning and preparation using pandas\n",
    "- Clickbait detection with rule-based approach\n",
    "- Sentiment analysis with LLM model (Hugging Face)\n",
    "- Visualization of results (Pie Chart)\n",
    "- Statistical analysis with valid p-values\n",
    "- Interactive web app with Streamlit\n",
    "\n",
    "**Future Improvements:**\n",
    "\n",
    "- More sophisticated clickbait detection (ML-based)  \n",
    "- Support for multilingual analysis  \n",
    "- More advanced statistical analysis  \n",
    "- Larger dataset across multiple pages  \n"
   ]
  },
  {
   "cell_type": "markdown",
   "id": "34a57228",
   "metadata": {},
   "source": [
    "## 5️. Appendix — Point Mapping ✅\n"
   ]
  },
  {
   "cell_type": "markdown",
   "id": "fad19570",
   "metadata": {},
   "source": [
    "### Minimum points (8):\n",
    "\n",
    "| Requirement                          | Implemented |\n",
    "|--------------------------------------|-------------|\n",
    "| (1) Collection of real-world data    | ✅ NewsAPI |\n",
    "| (2) Data preparation (regex, string) | ✅ Keyword highlighting + cleaning |\n",
    "| (3) Python structures & pandas       | ✅ Lists, dicts, DataFrames |\n",
    "| (4) Loops, conditionals              | ✅ main.py loops & filtering |\n",
    "| (5) Procedural programming           | ✅ Functions (main.py + llm_helper.py) |\n",
    "| (6) Visualization (table/chart)      | ✅ Pie Chart |\n",
    "| (7) Statistical analysis (p-value)   | ✅ Pearson, Spearman, Chi2 |\n",
    "| (8) Code + data available on Moodle  | ✅ Will upload |\n"
   ]
  },
  {
   "cell_type": "markdown",
   "id": "fadadc8f",
   "metadata": {},
   "source": [
    "### Bonus points:\n",
    "\n",
    "| Bonus Feature                        | Implemented |\n",
    "|--------------------------------------|-------------|\n",
    "| (1) Creativity                       | ✅ Clickbait + Sentiment + Interactive Search |\n",
    "| (2) Web API                          | ✅ NewsAPI |\n",
    "| (3) Database / SQL                   | ✅ Database/SQL |\n",
    "| (4) LLM usage                        | ✅ Sentiment analysis model |\n",
    "| (5) Streamlit web app                | ✅ Implemented |\n",
    "| (6) GitHub repo                      | ✅ Planned (optional) |\n"
   ]
  },
  {
   "cell_type": "markdown",
   "id": "8fe37a7c",
   "metadata": {},
   "source": [
    "Thank you for reading our project report!**\n"
   ]
  }
 ],
 "metadata": {
  "language_info": {
   "name": "python"
  }
 },
 "nbformat": 4,
 "nbformat_minor": 5
}
